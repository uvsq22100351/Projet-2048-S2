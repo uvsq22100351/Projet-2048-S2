{
 "cells": [
  {
   "cell_type": "code",
   "execution_count": null,
   "metadata": {},
   "outputs": [],
   "source": [
    "def Combiner_Gauche(mat):\n",
    "    \"\"\" Cette fonction permettra de combiner 2 tuiles de même nombre vers la gauche\"\"\"\n",
    "    for i in range (4):\n",
    "        for j in range (3):\n",
    "            if mat[i][j] != 0 and mat[i][j] == mat[i][j+1]:\n",
    "                mat[i][j] *= 2\n",
    "                mat[i][j+1] = 0\n",
    "    return mat\n",
    "    # Cette fonction prend en entrée une matrice de dimension 4x4 qui représente l'état actuel du jeu 2048. \n",
    "    # Cette fonction parcourt les tuiles horizontalement.\n",
    "    # La fonction parcourt chaque ligne de la matrice de gauche à droite, en cherchant les paires de tuiles adjacentes qui ont la même valeur.\n",
    "    # Lorsqu'une paire est trouvée, la tuile de gauche est fusionnée avec celle de droite en doublant sa valeur, et la tuile de droite est remplacée par une tuile vide.\n",
    "    # La fonction ne déplace pas les tuiles fusionnées vers la gauche. \n",
    "    # Elle se contente de fusionner les tuiles adjacentes qui ont la même valeur.\n",
    "    # Cela signifie qu'il peut y avoir des espaces vides entre les tuiles fusionnées après l'exécution de la fonction. "
   ]
  },
  {
   "cell_type": "code",
   "execution_count": null,
   "metadata": {},
   "outputs": [],
   "source": [
    "def Combiner_Droite(mat):\n",
    "    \"\"\" Cette fonction permettra de combiner 2 tuiles de même nombre vers la droite\"\"\"\n",
    "    for i in range (4):\n",
    "        for j in range (1,4):\n",
    "            if mat[i][-j] != 0 and mat[i][-j] == mat[i][-j-1]:\n",
    "                mat[i][-j] *= 2\n",
    "                mat[i][-j-1] = 0\n",
    "    return mat\n",
    "# la fonction parcourt chaque ligne de la matrice de droite à gauche, en cherchant les paires de tuiles adjacentes qui ont la même valeur. \n",
    "# Lorsqu'une paire est trouvée, la tuile de droite est fusionnée avec celle de gauche en doublant sa valeur, et la tuile de gauche est remplacée par une tuile vide   \n",
    "# la fonction ne déplace pas les tuiles fusionnées vers la droite. \n",
    "# Elle se contente de fusionner les tuiles adjacentes qui ont la même valeur.\n",
    "# Cela signifie qu'il peut y avoir des espaces vides entre les tuiles fusionnées après l'exécution de la fonction. "
   ]
  },
  {
   "cell_type": "code",
   "execution_count": null,
   "metadata": {},
   "outputs": [],
   "source": [
    "def Combiner_Haut(mat):\n",
    "    \"\"\" Cette fonction permettra de combiner 2 tuiles de même nombre vers le haut\"\"\"\n",
    "    for i in range (3):\n",
    "        for j in range (4):\n",
    "            if mat[i][j] != 0 and mat[i][j] == mat[i+1][j]:\n",
    "                mat[i][j] *= 2\n",
    "                mat[i+1][j] = 0\n",
    "    return mat\n",
    "# la fonction parcourt chaque colonne de la matrice de haut en bas, en cherchant les paires de tuiles adjacentes qui ont la même valeur.\n",
    "# Lorsqu'une paire est trouvée, la tuile du haut est fusionnée avec celle du bas en doublant sa valeur, et la tuile du bas est remplacée par une tuile vide.\n",
    "# Cette fonction parcourt les tuiles verticalement  "
   ]
  },
  {
   "cell_type": "code",
   "execution_count": null,
   "metadata": {},
   "outputs": [],
   "source": [
    "def Combiner_Bas(mat):\n",
    "    \"\"\" Cette fonction permettra de combiner 2 tuiles de même nombre vers le bas\"\"\"\n",
    "    for i in range (1,4):\n",
    "        for j in range (4):\n",
    "            if mat[-i][j] != 0 and mat[-i][j] == mat[-i-1][j]:\n",
    "                mat[-i][j] *= 2\n",
    "                mat[-i-1][j] = 0\n",
    "    return mat\n",
    "#la fonction parcourt chaque colonne de la matrice de bas en haut, en cherchant les paires de tuiles adjacentes qui ont la même valeur. \n",
    "#Lorsqu'une paire est trouvée, la tuile du bas est fusionnée avec celle du haut en doublant sa valeur, et la tuile du haut est remplacée par une tuile vide \n",
    "#la fonction ne déplace pas les tuiles fusionnées vers le bas. \n",
    "#Elle se contente de fusionner les tuiles adjacentes qui ont la même valeur. \n",
    "#Cela signifie qu'il peut y avoir des espaces vides entre les tuiles fusionnées après l'exécution de la fonction."
   ]
  },
  {
   "cell_type": "code",
   "execution_count": null,
   "metadata": {},
   "outputs": [],
   "source": [
    "def Left_Button():\n",
    "    global matrice\n",
    "    matrice = Empiler_Gauche(matrice)\n",
    "    matrice = Combiner_Gauche(matrice)\n",
    "    matrice = Empiler_Gauche(matrice)\n",
    "    matrice = Generateur_Tuile(matrice)\n",
    "    Actualisation_Interface()\n",
    "    Game_Over()\n",
    "# la fonction utilise la fonction \"Empiler_Gauche\" pour empiler toutes les tuiles non vides vers la gauche de la matrice. Cela signifie que toutes les tuiles vides se retrouvent à droite de la matrice.\n",
    "# Ensuite, la fonction utilise la fonction \"Combiner_Gauche\" pour fusionner les tuiles adjacentes de même valeur de la matrice qui ont été empilées vers la gauche.\n",
    "# Ensuite, la fonction utilise à nouveau la fonction \"Empiler_Gauche\" pour ramener toutes les tuiles vers la gauche de la matrice, afin qu'il n'y ait pas d'espaces vides entre les tuiles fusionnées.\n",
    "# Ensuite, la fonction utilise la fonction \"Generateur_Tuile\" pour générer une nouvelle tuile aléatoire dans un emplacement vide de la matrice.\n",
    "# Enfin, la fonction appelle la fonction \"Actualisation_Interface\" pour mettre à jour l'interface graphique du jeu et afficher les modifications apportées à la matrice.\n",
    "# La fonction \"Game_Over\" est également appelée pour vérifier si le jeu est terminé (c'est-à-dire si toutes les cases sont remplies et qu'il n'y a plus de mouvements possibles). \n",
    "# Si le jeu est terminé, la fonction \"Game_Over\" affichera un message approprié à l'utilisateur.\n",
    "# En résumé, la fonction \"Left_Button\" est responsable de la fusion des tuiles vers la gauche, de la génération de nouvelles tuiles, de la mise à jour de l'interface utilisateur et de la vérification de l'état du jeu\n"
   ]
  },
  {
   "cell_type": "code",
   "execution_count": null,
   "metadata": {},
   "outputs": [],
   "source": [
    "def Right_Button():\n",
    "    global matrice\n",
    "    matrice = Empiler_Droite(matrice)\n",
    "    matrice = Combiner_Droite(matrice)\n",
    "    matrice = Empiler_Droite(matrice)\n",
    "    matrice = Generateur_Tuile(matrice)\n",
    "    Actualisation_Interface()\n",
    "    Game_Over()\n",
    "# la fonction utilise la fonction \"Empiler_Droite\" pour empiler toutes les tuiles non vides vers la droite de la matrice. Cela signifie que toutes les tuiles vides se retrouvent à gauche de la matrice.\n",
    "# Ensuite, la fonction utilise la fonction \"Combiner_Droite\" pour fusionner les tuiles adjacentes de même valeur de la matrice qui ont été empilées vers la droite. \n",
    "# Ensuite, la fonction utilise à nouveau la fonction \"Empiler_Droite\" pour ramener toutes les tuiles vers la droite de la matrice, afin qu'il n'y ait pas d'espaces vides entre les tuiles fusionnées.\n",
    "# Ensuite, la fonction utilise la fonction \"Generateur_Tuile\" pour générer une nouvelle tuile aléatoire dans un emplacement vide de la matrice.\n",
    "# Enfin, la fonction appelle la fonction \"Actualisation_Interface\" pour mettre à jour l'interface graphique du jeu et afficher les modifications apportées à la matrice.\n",
    "# La fonction \"Game_Over\" est également appelée pour vérifier si le jeu est terminé (c'est-à-dire si toutes les cases sont remplies et qu'il n'y a plus de mouvements possibles). \n",
    "# Si le jeu est terminé, la fonction \"Game_Over\" affichera un message approprié à l'utilisateur.\n",
    "# En résumé, la fonction \"Right_Button\" est responsable de la fusion des tuiles vers la droite, de la génération de nouvelles tuiles, de la mise à jour de l'interface utilisateur et de la vérification de l'état du jeu.   "
   ]
  },
  {
   "cell_type": "code",
   "execution_count": null,
   "metadata": {},
   "outputs": [],
   "source": [
    "def Up_Button():\n",
    "    global matrice\n",
    "    matrice = Empiler_Haut(matrice)\n",
    "    matrice = Combiner_Haut(matrice)\n",
    "    matrice = Empiler_Haut(matrice)\n",
    "    matrice = Generateur_Tuile(matrice)\n",
    "    Actualisation_Interface()\n",
    "    Game_Over()\n",
    "# La fonction utilise la fonction \"Empiler_Haut\" pour empiler toutes les tuiles non vides vers le haut de la matrice. Cela signifie que toutes les tuiles vides se retrouvent en bas de la matrice.\n",
    "# Ensuite, la fonction utilise la fonction \"Combiner_Haut\" pour fusionner les tuiles adjacentes de même valeur de la matrice qui ont été empilées vers le haut.\n",
    "# Ensuite, la fonction utilise à nouveau la fonction \"Empiler_Haut\" pour ramener toutes les tuiles vers le haut de la matrice, afin qu'il n'y ait pas d'espaces vides entre les tuiles fusionnées.\n",
    "# Ensuite, la fonction utilise la fonction \"Generateur_Tuile\" pour générer une nouvelle tuile aléatoire dans un emplacement vide de la matrice.\n",
    "# Enfin, la fonction appelle la fonction \"Actualisation_Interface\" pour mettre à jour l'interface graphique du jeu et afficher les modifications apportées à la matrice.\n",
    "# La fonction \"Game_Over\" est également appelée pour vérifier si le jeu est terminé (c'est-à-dire si toutes les cases sont remplies et qu'il n'y a plus de mouvements possibles). \n",
    "# Si le jeu est terminé, la fonction \"Game_Over\" affichera un message approprié à l'utilisateur.\n",
    "# En résumé, la fonction \"Up_Button\" est responsable de la fusion des tuiles vers le haut, de la génération de nouvelles tuiles, de la mise à jour de l'interface utilisateur et de la vérification de l'état du jeu    "
   ]
  },
  {
   "cell_type": "code",
   "execution_count": null,
   "metadata": {},
   "outputs": [],
   "source": [
    "def Down_Button():\n",
    "    global matrice\n",
    "    matrice = Empiler_Bas(matrice)\n",
    "    matrice = Combiner_Bas(matrice)\n",
    "    matrice = Empiler_Bas(matrice)\n",
    "    matrice = Generateur_Tuile(matrice)\n",
    "    Actualisation_Interface()\n",
    "    Game_Over()\n",
    "# la fonction utilise la fonction \"Empiler_Bas\" pour empiler toutes les tuiles non vides vers le bas de la matrice. Cela signifie que toutes les tuiles vides se retrouvent en haut de la matrice.\n",
    "# Ensuite, la fonction utilise la fonction \"Combiner_Bas\" pour fusionner les tuiles adjacentes de même valeur de la matrice qui ont été empilées vers le bas.\n",
    "# Ensuite, la fonction utilise à nouveau la fonction \"Empiler_Bas\" pour ramener toutes les tuiles vers le bas de la matrice, afin qu'il n'y ait pas d'espaces vides entre les tuiles fusionnées.\n",
    "# Ensuite, la fonction utilise la fonction \"Generateur_Tuile\" pour générer une nouvelle tuile aléatoire dans un emplacement vide de la matrice.\n",
    "# Enfin, la fonction appelle la fonction \"Actualisation_Interface\" pour mettre à jour l'interface graphique du jeu et afficher les modifications apportées à la matrice.\n",
    "# La fonction \"Game_Over\" est également appelée pour vérifier si le jeu est terminé (c'est-à-dire si toutes les cases sont remplies et qu'il n'y a plus de mouvements possibles). Si le jeu est terminé, la fonction \"Game_Over\" affichera un message approprié à l'utilisateur.\n",
    "# En résumé, la fonction \"Down_Button\" est responsable de la fusion des tuiles vers le bas, de la génération de nouvelles tuiles, de la mise à jour de l'interface utilisateur et de la vérification de l'état du jeu.    "
   ]
  },
  {
   "cell_type": "code",
   "execution_count": null,
   "metadata": {},
   "outputs": [],
   "source": [
    "def Mouv_Hozizontale():\n",
    "    \"\"\"Regarde si on peut toujours se déplacer de manière horizontale\"\"\"\n",
    "    for i in range (4):\n",
    "        for j in range (1,3):\n",
    "            if matrice[i][j] == matrice[i][j+1] or matrice[i][j] == matrice[i][j-1]:\n",
    "                return True\n",
    "    return False\n",
    "# Cette fonction permet de vérifier si l'on peut encore se déplacer horizontalement dans la grille de jeu. \n",
    "# Elle parcourt chaque ligne de la matrice, à partir de la deuxième jusqu'à l'avant-dernière colonne, et vérifie si une case contient le même nombre qu'une case adjacente horizontale. \n",
    "# Si c'est le cas, cela signifie qu'il est encore possible de se déplacer horizontalement. \n",
    "# Si aucune case ne remplit cette condition, la fonction retourne False, indiquant qu'il n'est plus possible de se déplacer horizontalement.     "
   ]
  },
  {
   "cell_type": "code",
   "execution_count": null,
   "metadata": {},
   "outputs": [],
   "source": [
    "def Mouv_Verticale():\n",
    "    \"\"\"Regarde si on peut toujours se déplacer de manière verticale\"\"\"\n",
    "    for i in range (1,3):\n",
    "        for j in range (4):\n",
    "            if matrice[i][j] == matrice[i+1][j] or matrice[i][j] == matrice[i-1][j]:\n",
    "                return True\n",
    "    return False\n",
    "# Cette fonction permet de vérifier si l'on peut encore se déplacer verticalement dans la grille de jeu.\n",
    "# Elle parcourt chaque colonne de la matrice, à partir de la deuxième jusqu'à l'avant-dernière ligne, et vérifie si une case contient le même nombre qu'une case adjacente verticale. \n",
    "# Si c'est le cas, cela signifie qu'il est encore possible de se déplacer verticalement. \n",
    "# Si aucune case ne remplit cette condition, la fonction retourne False, indiquant qu'il n'est plus possible de se déplacer verticalement. "
   ]
  },
  {
   "cell_type": "code",
   "execution_count": null,
   "metadata": {},
   "outputs": [],
   "source": [
    "def Zero_In_Mat():\n",
    "    \"\"\"Regarde s'il y a encore des espaces vides'\"\"\"\n",
    "    for i in range(4):\n",
    "        if 0 in matrice[i]:\n",
    "            return True\n",
    "    return False\n",
    "# Cette fonction vérifie s'il reste encore des espaces vides dans la grille de jeu (matrice). \n",
    "# Elle parcourt chaque ligne de la matrice et utilise la fonction in pour chercher la valeur 0 qui représente une case vide. \n",
    "# Si elle trouve un 0 dans une ligne, cela signifie qu'il reste des espaces vides et elle renvoie True. \n",
    "# Si elle parcourt toutes les lignes sans trouver de 0, cela signifie que la matrice est pleine et elle renvoie False.     "
   ]
  },
  {
   "cell_type": "code",
   "execution_count": null,
   "metadata": {},
   "outputs": [],
   "source": [
    "def Game_Over():\n",
    "    global end\n",
    "    if any(2048 in row for row in matrice):\n",
    "        end = 1\n",
    "        Affich_Game_Over()\n",
    "    elif Zero_In_Mat()==False and Mouv_Hozizontale()==False and Mouv_Verticale()==False: \n",
    "        end = 0\n",
    "        Affich_Game_Over()\n",
    "    else:\n",
    "        pass\n",
    "# La fonction Game_Over() vérifie si la partie est terminée. Elle utilise deux autres fonctions Zero_In_Mat() et Mouv_Hozizontale() pour déterminer s'il y a encore des mouvements possibles sur la matrice de jeu.\n",
    "# Si la valeur 2048 est présente dans la matrice, cela signifie que le joueur a réussi à atteindre le nombre 2048, donc la partie est gagnée et la variable end est mise à 1. Dans ce cas, la fonction Affich_Game_Over() est appelée pour afficher un message de victoire.\n",
    "# Si la matrice est remplie de tuiles et qu'aucun mouvement horizontal ou vertical n'est possible, cela signifie que la partie est perdue et la variable end est mise à 0. La fonction Affich_Game_Over() est également appelée pour afficher un message de défaite.\n",
    "# Si la partie n'est ni gagnée ni perdue, la fonction ne fait rien et continue l'exécution du programme.    "
   ]
  }
 ],
 "metadata": {
  "language_info": {
   "name": "python"
  },
  "orig_nbformat": 4
 },
 "nbformat": 4,
 "nbformat_minor": 2
}
